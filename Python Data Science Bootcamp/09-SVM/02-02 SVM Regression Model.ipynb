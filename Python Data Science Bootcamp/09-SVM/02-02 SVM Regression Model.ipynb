{
 "cells": [
  {
   "cell_type": "code",
   "execution_count": 2,
   "metadata": {},
   "outputs": [],
   "source": [
    "import matplotlib.pyplot as plt\n",
    "import numpy as np\n",
    "import pandas as pd\n",
    "import seaborn as sns\n",
    "import warnings\n",
    "warnings.filterwarnings('ignore')"
   ]
  },
  {
   "cell_type": "code",
   "execution_count": 13,
   "metadata": {},
   "outputs": [],
   "source": [
    "from sklearn.metrics import *\n",
    "from sklearn.svm import SVR, LinearSVR\n",
    "from sklearn.model_selection import train_test_split, GridSearchCV\n",
    "from sklearn.preprocessing import StandardScaler"
   ]
  },
  {
   "cell_type": "code",
   "execution_count": 5,
   "metadata": {},
   "outputs": [
    {
     "data": {
      "text/html": [
       "<div>\n",
       "<style scoped>\n",
       "    .dataframe tbody tr th:only-of-type {\n",
       "        vertical-align: middle;\n",
       "    }\n",
       "\n",
       "    .dataframe tbody tr th {\n",
       "        vertical-align: top;\n",
       "    }\n",
       "\n",
       "    .dataframe thead th {\n",
       "        text-align: right;\n",
       "    }\n",
       "</style>\n",
       "<table border=\"1\" class=\"dataframe\">\n",
       "  <thead>\n",
       "    <tr style=\"text-align: right;\">\n",
       "      <th></th>\n",
       "      <th>Cement</th>\n",
       "      <th>Slag</th>\n",
       "      <th>Fly ash</th>\n",
       "      <th>Water</th>\n",
       "      <th>SP</th>\n",
       "      <th>Coarse Aggr.</th>\n",
       "      <th>Fine Aggr.</th>\n",
       "      <th>Slump</th>\n",
       "      <th>Flow</th>\n",
       "      <th>Comp_Str</th>\n",
       "    </tr>\n",
       "  </thead>\n",
       "  <tbody>\n",
       "    <tr>\n",
       "      <th>0</th>\n",
       "      <td>273.0</td>\n",
       "      <td>82.0</td>\n",
       "      <td>105.0</td>\n",
       "      <td>210.0</td>\n",
       "      <td>9.0</td>\n",
       "      <td>904.0</td>\n",
       "      <td>680.0</td>\n",
       "      <td>23.0</td>\n",
       "      <td>62.0</td>\n",
       "      <td>34.99</td>\n",
       "    </tr>\n",
       "    <tr>\n",
       "      <th>1</th>\n",
       "      <td>163.0</td>\n",
       "      <td>149.0</td>\n",
       "      <td>191.0</td>\n",
       "      <td>180.0</td>\n",
       "      <td>12.0</td>\n",
       "      <td>843.0</td>\n",
       "      <td>746.0</td>\n",
       "      <td>0.0</td>\n",
       "      <td>20.0</td>\n",
       "      <td>41.14</td>\n",
       "    </tr>\n",
       "    <tr>\n",
       "      <th>2</th>\n",
       "      <td>162.0</td>\n",
       "      <td>148.0</td>\n",
       "      <td>191.0</td>\n",
       "      <td>179.0</td>\n",
       "      <td>16.0</td>\n",
       "      <td>840.0</td>\n",
       "      <td>743.0</td>\n",
       "      <td>1.0</td>\n",
       "      <td>20.0</td>\n",
       "      <td>41.81</td>\n",
       "    </tr>\n",
       "    <tr>\n",
       "      <th>3</th>\n",
       "      <td>162.0</td>\n",
       "      <td>148.0</td>\n",
       "      <td>190.0</td>\n",
       "      <td>179.0</td>\n",
       "      <td>19.0</td>\n",
       "      <td>838.0</td>\n",
       "      <td>741.0</td>\n",
       "      <td>3.0</td>\n",
       "      <td>21.5</td>\n",
       "      <td>42.08</td>\n",
       "    </tr>\n",
       "    <tr>\n",
       "      <th>4</th>\n",
       "      <td>154.0</td>\n",
       "      <td>112.0</td>\n",
       "      <td>144.0</td>\n",
       "      <td>220.0</td>\n",
       "      <td>10.0</td>\n",
       "      <td>923.0</td>\n",
       "      <td>658.0</td>\n",
       "      <td>20.0</td>\n",
       "      <td>64.0</td>\n",
       "      <td>26.82</td>\n",
       "    </tr>\n",
       "  </tbody>\n",
       "</table>\n",
       "</div>"
      ],
      "text/plain": [
       "   Cement   Slag  Fly ash  Water    SP  Coarse Aggr.  Fine Aggr.  Slump  Flow  \\\n",
       "0   273.0   82.0    105.0  210.0   9.0         904.0       680.0   23.0  62.0   \n",
       "1   163.0  149.0    191.0  180.0  12.0         843.0       746.0    0.0  20.0   \n",
       "2   162.0  148.0    191.0  179.0  16.0         840.0       743.0    1.0  20.0   \n",
       "3   162.0  148.0    190.0  179.0  19.0         838.0       741.0    3.0  21.5   \n",
       "4   154.0  112.0    144.0  220.0  10.0         923.0       658.0   20.0  64.0   \n",
       "\n",
       "   Comp_Str  \n",
       "0     34.99  \n",
       "1     41.14  \n",
       "2     41.81  \n",
       "3     42.08  \n",
       "4     26.82  "
      ]
     },
     "execution_count": 5,
     "metadata": {},
     "output_type": "execute_result"
    }
   ],
   "source": [
    "df = pd.read_csv('cement_eda.csv')\n",
    "df.head()"
   ]
  },
  {
   "cell_type": "code",
   "execution_count": 6,
   "metadata": {},
   "outputs": [],
   "source": [
    "X = df.drop(labels='Comp_Str', axis=1)\n",
    "y = df['Comp_Str']"
   ]
  },
  {
   "cell_type": "code",
   "execution_count": 11,
   "metadata": {},
   "outputs": [
    {
     "name": "stdout",
     "output_type": "stream",
     "text": [
      "X_train size: 72, X_test size: 31\n",
      "y_train size: 72, y_test size: 31\n"
     ]
    }
   ],
   "source": [
    "X_train, X_test, y_train, y_test = train_test_split(X, y, test_size=0.3, random_state=42)\n",
    "print(f'X_train size: {len(X_train)}', end=', ')\n",
    "print(f'X_test size: {len(X_test)}')\n",
    "print(f'y_train size: {len(y_train)}', end=', ')\n",
    "print(f'y_test size: {len(y_test)}')"
   ]
  },
  {
   "cell_type": "code",
   "execution_count": 12,
   "metadata": {},
   "outputs": [],
   "source": [
    "scaler = StandardScaler()\n",
    "X_train_scaled = scaler.fit_transform(X_train)\n",
    "X_test_scaled = scaler.transform(X_test)"
   ]
  },
  {
   "cell_type": "code",
   "execution_count": 14,
   "metadata": {},
   "outputs": [],
   "source": [
    "estimator_grid = [\n",
    "    SVR(),\n",
    "    LinearSVR()  \n",
    "]\n",
    "\n",
    "svr_params = {\n",
    "    'kernel': ['linear', 'poly', 'rbf'],\n",
    "    'C': np.logspace(-3, 2, 6),\n",
    "    'degree': np.arange(1, 5),\n",
    "    'gamma': ['scale', 'auto'],\n",
    "    'epsilon': [0, 0.01, 0.1, 0.5, 1, 2]\n",
    "}\n",
    "\n",
    "linear_svr_params = {\n",
    "    'C': np.logspace(-3, 2, 6),\n",
    "    'epsilon': [0, 0.01, 0.1, 0.5, 1, 2] \n",
    "}\n",
    "\n",
    "param_grid = [\n",
    "    svr_params,\n",
    "    linear_svr_params\n",
    "]\n"
   ]
  },
  {
   "cell_type": "code",
   "execution_count": 34,
   "metadata": {},
   "outputs": [
    {
     "name": "stdout",
     "output_type": "stream",
     "text": [
      "{'SVR': [0.9012861962469918, {'C': 100.0, 'degree': 1, 'epsilon': 0, 'gamma': 'scale', 'kernel': 'rbf'}, SVR(C=100.0, degree=1, epsilon=0)], 'LinearSVR': [0.8657090362008715, {'C': 10.0, 'epsilon': 2}, LinearSVR(C=10.0, epsilon=2)]}\n"
     ]
    }
   ],
   "source": [
    "estimator_dict = {}\n",
    "for i in range(len(estimator_grid)):\n",
    "    grid_search = GridSearchCV(\n",
    "        estimator=estimator_grid[i],\n",
    "        param_grid=param_grid[i],\n",
    "        cv=5,\n",
    "        n_jobs=-1\n",
    "    )\n",
    "    grid_search.fit(X_train_scaled, y_train)   \n",
    "    d = {str(estimator_grid[i]).replace('()', ''): [grid_search.best_score_, grid_search.best_params_, grid_search.best_estimator_]} \n",
    "    estimator_dict.update(d)\n",
    "print(estimator_dict)"
   ]
  },
  {
   "cell_type": "code",
   "execution_count": 64,
   "metadata": {},
   "outputs": [],
   "source": [
    "best_estimator = SVR(C=100.0, degree=1, epsilon=0).fit(X_train_scaled, y_train)"
   ]
  },
  {
   "cell_type": "code",
   "execution_count": 66,
   "metadata": {},
   "outputs": [
    {
     "name": "stdout",
     "output_type": "stream",
     "text": [
      "1.3834444347896635\n",
      "2.0949780311941892\n"
     ]
    }
   ],
   "source": [
    "y_pred = best_estimator.predict(X_test_scaled)\n",
    "print(mean_absolute_error(y_true=y_test, y_pred=y_pred))\n",
    "print(np.sqrt(mean_squared_error(y_true=y_test, y_pred=y_pred)))"
   ]
  },
  {
   "cell_type": "code",
   "execution_count": 70,
   "metadata": {},
   "outputs": [
    {
     "name": "stdout",
     "output_type": "stream",
     "text": [
      "1.3834444347896635\n",
      "2.0949780311941892\n"
     ]
    },
    {
     "data": {
      "image/png": "[encoded data removed]",
      "text/plain": [
       "<Figure size 1440x432 with 1 Axes>"
      ]
     },
     "metadata": {
      "needs_background": "light"
     },
     "output_type": "display_data"
    }
   ],
   "source": [
    "final_model = best_estimator.fit(X, y)\n",
    "y_hat = best_estimator.predict(X)\n",
    "print(mean_absolute_error(y_true=y_test, y_pred=y_pred))\n",
    "print(np.sqrt(mean_squared_error(y_true=y_test, y_pred=y_pred)))\n",
    "plt.figure(figsize = (20, 6));\n",
    "plt.plot(y, 'o');\n",
    "plt.plot(y_hat, 'x', color='red');"
   ]
  }
 ],
 "metadata": {
  "kernelspec": {
   "display_name": "Python 3",
   "language": "python",
   "name": "python3"
  },
  "language_info": {
   "codemirror_mode": {
    "name": "ipython",
    "version": 3
   },
   "file_extension": ".py",
   "mimetype": "text/x-python",
   "name": "python",
   "nbconvert_exporter": "python",
   "pygments_lexer": "ipython3",
   "version": "3.7.9"
  }
 },
 "nbformat": 4,
 "nbformat_minor": 4
}
