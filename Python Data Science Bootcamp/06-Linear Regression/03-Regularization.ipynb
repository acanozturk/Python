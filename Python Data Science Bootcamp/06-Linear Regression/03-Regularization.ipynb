{
 "cells": [
  {
   "cell_type": "code",
   "execution_count": 1,
   "metadata": {},
   "outputs": [],
   "source": [
    "import numpy as np\n",
    "import pandas as pd\n",
    "import matplotlib.pyplot as plt\n",
    "import seaborn as sns\n",
    "import warnings\n",
    "warnings.filterwarnings('ignore')"
   ]
  },
  {
   "cell_type": "code",
   "execution_count": 6,
   "metadata": {},
   "outputs": [],
   "source": [
    "df = pd.read_csv('Advertising.csv')"
   ]
  },
  {
   "cell_type": "code",
   "execution_count": 8,
   "metadata": {},
   "outputs": [],
   "source": [
    "X = df.drop('sales', axis = 1)\n",
    "y = df['sales']"
   ]
  },
  {
   "cell_type": "code",
   "execution_count": 70,
   "metadata": {},
   "outputs": [],
   "source": [
    "from sklearn.preprocessing import PolynomialFeatures, StandardScaler\n",
    "from sklearn.model_selection import train_test_split\n",
    "from sklearn.linear_model import LinearRegression, Ridge, Lasso, RidgeCV, LassoCV, ElasticNet, ElasticNetCV\n",
    "from sklearn.metrics import mean_absolute_error, mean_squared_error"
   ]
  },
  {
   "cell_type": "code",
   "execution_count": 59,
   "metadata": {},
   "outputs": [],
   "source": [
    "poly = PolynomialFeatures(degree = 3, include_bias = False)\n",
    "p_feat = poly.fit_transform(X)"
   ]
  },
  {
   "cell_type": "code",
   "execution_count": 60,
   "metadata": {},
   "outputs": [],
   "source": [
    "# Scaling\n",
    "X_train, X_test, y_train, y_test = train_test_split(p_feat, y, test_size = 0.3, random_state = 101)\n",
    "scaler = StandardScaler()"
   ]
  },
  {
   "cell_type": "code",
   "execution_count": 61,
   "metadata": {},
   "outputs": [],
   "source": [
    "X_train_scaled = scaler.fit_transform(X_train)\n",
    "X_test_scaled = scaler.transform(X_test)"
   ]
  },
  {
   "cell_type": "code",
   "execution_count": 74,
   "metadata": {},
   "outputs": [
    {
     "name": "stdout",
     "output_type": "stream",
     "text": [
      "0.5803485298430467\n"
     ]
    }
   ],
   "source": [
    "# Ridge \n",
    "ridge_model = Ridge().fit(X_train, y_train)\n",
    "ridge_pred = ridge_model.predict(X_test)\n",
    "ridge_RMSE = np.sqrt(mean_squared_error(y_test, ridge_pred))\n",
    "print(ridge_RMSE)"
   ]
  },
  {
   "cell_type": "code",
   "execution_count": 73,
   "metadata": {},
   "outputs": [
    {
     "name": "stdout",
     "output_type": "stream",
     "text": [
      "0.5809498669214821\n"
     ]
    }
   ],
   "source": [
    "# Ridge CV\n",
    "ridge_cv_model = RidgeCV().fit(X_train, y_train)\n",
    "ridge_cv_pred = ridge_cv_model.predict(X_test)\n",
    "ridge_cv_RMSE = np.sqrt(mean_squared_error(y_test, ridge_cv_pred))\n",
    "print(ridge_cv_RMSE)"
   ]
  },
  {
   "cell_type": "code",
   "execution_count": 64,
   "metadata": {},
   "outputs": [
    {
     "name": "stdout",
     "output_type": "stream",
     "text": [
      "0.6437241578761309\n"
     ]
    }
   ],
   "source": [
    "# Lasso\n",
    "lasso_model = Lasso().fit(X_train, y_train)\n",
    "lasso_pred = lasso_model.predict(X_test)\n",
    "lasso_RMSE = np.sqrt(mean_squared_error(y_test, lasso_pred))\n",
    "print(lasso_RMSE)"
   ]
  },
  {
   "cell_type": "code",
   "execution_count": 69,
   "metadata": {},
   "outputs": [
    {
     "name": "stdout",
     "output_type": "stream",
     "text": [
      "1.866983482837324\n"
     ]
    }
   ],
   "source": [
    "# LassoCV\n",
    "lasso_cv_model = LassoCV().fit(X_train, y_train)\n",
    "lasso_cv_pred = lasso_cv_model.predict(X_test)\n",
    "lasso_cv_RMSE = np.sqrt(mean_squared_error(y_test, lasso_cv_pred))\n",
    "print(lasso_cv_RMSE)"
   ]
  },
  {
   "cell_type": "code",
   "execution_count": 71,
   "metadata": {},
   "outputs": [
    {
     "name": "stdout",
     "output_type": "stream",
     "text": [
      "0.6148990939521608\n"
     ]
    }
   ],
   "source": [
    "# Elastic Net\n",
    "en_model = ElasticNet().fit(X_train, y_train)\n",
    "en_pred = en_model.predict(X_test)\n",
    "en_RMSE = np.sqrt(mean_squared_error(y_test, en_pred))\n",
    "print(en_RMSE)"
   ]
  },
  {
   "cell_type": "code",
   "execution_count": 72,
   "metadata": {},
   "outputs": [
    {
     "name": "stdout",
     "output_type": "stream",
     "text": [
      "1.8669849838093073\n"
     ]
    }
   ],
   "source": [
    "# Elastic Net CV\n",
    "en_cv_model = ElasticNetCV().fit(X_train, y_train)\n",
    "en_cv_pred = en_cv_model.predict(X_test)\n",
    "en_cv_RMSE = np.sqrt(mean_squared_error(y_test, en_cv_pred))\n",
    "print(en_cv_RMSE)"
   ]
  }
 ],
 "metadata": {
  "kernelspec": {
   "display_name": "Python 3",
   "language": "python",
   "name": "python3"
  },
  "language_info": {
   "codemirror_mode": {
    "name": "ipython",
    "version": 3
   },
   "file_extension": ".py",
   "mimetype": "text/x-python",
   "name": "python",
   "nbconvert_exporter": "python",
   "pygments_lexer": "ipython3",
   "version": "3.7.9"
  }
 },
 "nbformat": 4,
 "nbformat_minor": 4
}
